{
 "cells": [
  {
   "attachments": {},
   "cell_type": "markdown",
   "id": "fb063a09",
   "metadata": {},
   "source": [
    "# Основні відомості про Ісландію\n",
    "\n",
    "\n",
    "## Основні характеристики\n",
    "\n",
    "<p style=\"border: solid black 2px; padding: 4px; color:blue\">Ісландія — нордична острівна країна в північній Європі. Ісландія є вулканічно і геологічно активною територією. Її поверхня в основному складається з плато, покритих піщаними полями, горами та льодовиками, хоча багато льодовикових річок течуть до моря через низовини. Ісландія, зігріта Гольфстримом, має помірний клімат, попри високі широти і безпосередню близькість до Полярного кола.</p>\n",
    "\n",
    "- **Столиця**: Рейк'явік\n",
    "- **Населення**: ~380,000 осіб\n",
    "- **Площа**: 103,000 км²\n",
    "- **Державний устрій**: Парламентська республіка\n",
    "\n",
    "---\n",
    "\n",
    "## Культура та пам'ятки\n",
    "\n",
    "### Видатні персоналії:\n",
    "- *Сноррі Стурлусон* — середньовічний ісландський історик, поет та автор саг.\n",
    "\n",
    "<img src=\"https://imwerden.de/pdf/%D0%A1%D1%82%D1%83%D1%80%D0%BB%D1%83%D1%81%D0%BE%D0%BD_%D0%A1%D0%BD%D0%BE%D1%80%D1%80%D0%B8.jpg\" width=\"240px\">\n",
    "\n",
    "\n",
    "- *Б'єрк* — відома співачка, композиторка та музичний експериментатор.\n",
    "\n",
    "<div height=\"240px\"><img src=\"https://cdn.vogue.ua/i/image_720x/uploads/image/0f8/e0f/3ed/5a143ede0f0f8.jpeg.webp\" width=\"240px\"></div>\n",
    "\n",
    "- *Хальдоур Лакснесс* — письменник, лауреат Нобелівської премії з літератури 1955 року.\n",
    "\n",
    "<img src=\"https://glstatic.rg.ru/uploads/images/2022/04/22/8acf188a-d690-48b7-bbe4-e7cf771fc9c5_7ea.jpg\" width=\"240px\">\n",
    "\n",
    "- *Вігдіс Фіннбоґадоуттір* — перша жінка-президент у світі, яка обіймала посаду президента Ісландії з 1980 по 1996 рік.\n",
    "![Вігдіс Фіннбоґадоуттір](images.jpg)\n",
    "\n",
    "### Відомі пам'ятки природи та культури\n",
    "\n",
    "| Назва       | Місце розташування | Опис                                |\n",
    "|-------------|--------------------|-------------------------------------|\n",
    "|Собор Галлгрімскірк'я|Рейк'явік| Один з найбільших соборів Ісландії, архітектурний символ столиці.|\n",
    "|Музей Ісландії|Рейк'явік| Головний музей Ісландії, де представлена історія країни з часів заснування та до сучасності.|\n",
    "|Блакитна Лагуна|Ґріндавік|Популярний геотермальний курорт.|\n",
    "|Національний парк Тінгвеллір|Південний захід Ісландії|Історичне місце, де зібрався перший парламент світу - Альтинг.|\n",
    "|Водоспад Гульфосс|Долина Хвоукадалур|Один з найвідоміших водоспадів Ісландії, розташований на річці Хвітау.|\n",
    "|Гейзер Строккур|Долина Хвоукадалур\t|Один з найбільших активних гейзерів у світі.|\n",
    "\n",
    "---\n",
    "\n",
    "## Корисні посилання\n",
    "\n",
    "[Офіційний туристичний сайт Ісландії](https://www.visiticeland.com)\n",
    "\n",
    "[15 найкращих місць в Ісландії, які варто відвідати у 2024 році](http://edgeservices.bing.com/edgesvc/redirect?url=https%3A%2F%2Fwww.adotrip.com%2Fuk%2Fblog%2Fplaces-to-visit-in-iceland&hash=TLYni%2B4xQ0R%2FEws0ZV2%2BDLyp%2Fjkbu2MceQwOvhu%2FzS4%3D&key=psc-underside&usparams=cvid%3A51D%7CBingProd%7CDD4ADDAEB48F4F2BFB6E3445E54711CE78F44C1AC9202907FC85861A6E88309B%5Ertone%3ABalanced)\n",
    "\n",
    "[25 цікавих фактів про Ісландію](https://riara.com.ua/tsikavi-fakty-pro-islandiyu/#google_vignette)\n",
    "\n",
    "---\n",
    "\n",
    "## Прапор Ісландії\n"
   ]
  },
  {
   "cell_type": "code",
   "execution_count": 4,
   "id": "d6ee8f6d",
   "metadata": {},
   "outputs": [
    {
     "data": {
      "text/html": [
       "<svg height=\"180\" width=\"250\">\n",
       "    <rect height=\"180\" width=\"250\" fill=\"#02529c\"/>\n",
       "    <rect height=\"40\" width=\"250\" fill=\"#ffffff\" y=\"70\"/>\n",
       "    <rect height=\"180\" width=\"40\" fill=\"#ffffff\" x=\"70\"/> \n",
       "    <rect height=\"20\" width=\"250\" fill=\"#dc1e35\" y=\"80\"/>\n",
       "    <rect height=\"180\" width=\"20\" fill=\"#dc1e35\" x=\"80\"/>\n",
       "</svg>\n"
      ],
      "text/plain": [
       "<IPython.core.display.HTML object>"
      ]
     },
     "metadata": {},
     "output_type": "display_data"
    }
   ],
   "source": [
    "%%HTML\n",
    "<svg height=\"180\" width=\"250\">\n",
    "    <rect height=\"180\" width=\"250\" fill=\"#02529c\"/>\n",
    "    <rect height=\"40\" width=\"250\" fill=\"#ffffff\" y=\"70\"/>\n",
    "    <rect height=\"180\" width=\"40\" fill=\"#ffffff\" x=\"70\"/> \n",
    "    <rect height=\"20\" width=\"250\" fill=\"#dc1e35\" y=\"80\"/>\n",
    "    <rect height=\"180\" width=\"20\" fill=\"#dc1e35\" x=\"80\"/>\n",
    "</svg>\n"
   ]
  },
  {
   "cell_type": "code",
   "execution_count": 9,
   "id": "808a517f",
   "metadata": {},
   "outputs": [],
   "source": [
    "def task_7():\n",
    "    try:\n",
    "        original_num = float(input(\"Введіть число: \"))\n",
    "    except ValueError:\n",
    "        return \"Помилка. У списку присутнє нечислове значення\"\n",
    "    \n",
    "    num = original_num\n",
    "    if num > 0:\n",
    "        sign = 0\n",
    "    elif num == 0:\n",
    "        return '0 у двійковій системі буде 0|0'\n",
    "    else:\n",
    "        sign = 1\n",
    "        num = abs(num)\n",
    "        \n",
    "    int_num = int(num)\n",
    "    frac_num = num - int_num\n",
    "    \n",
    "    result = \"\"\n",
    "    while int_num > 0:\n",
    "        if int_num  % 2:\n",
    "            result = \"1\" + result\n",
    "        else: \n",
    "            result = \"0\" + result\n",
    "        int_num  = int_num  // 2\n",
    "        \n",
    "    if frac_num == 0:\n",
    "        return f'{int(original_num)} у двійковій системі буде {sign}|{result}'\n",
    "    else:\n",
    "        frac_result = \"\"\n",
    "        while len(frac_result) < 3:\n",
    "            frac_num *= 2\n",
    "            frac_result += str(int(frac_num))\n",
    "            frac_num -= int(frac_num)\n",
    "        return f'{original_num} у двійковій системі буде {sign}|{result}.{frac_result}'"
   ]
  },
  {
   "cell_type": "code",
   "execution_count": 10,
   "id": "a5a4984f",
   "metadata": {},
   "outputs": [
    {
     "name": "stdout",
     "output_type": "stream",
     "text": [
      "Введіть число: qwerty1\n"
     ]
    },
    {
     "data": {
      "text/plain": [
       "'Помилка. У списку присутнє нечислове значення'"
      ]
     },
     "execution_count": 10,
     "metadata": {},
     "output_type": "execute_result"
    }
   ],
   "source": [
    "task_7()"
   ]
  },
  {
   "cell_type": "code",
   "execution_count": 7,
   "id": "85a857ef",
   "metadata": {},
   "outputs": [
    {
     "name": "stdout",
     "output_type": "stream",
     "text": [
      "Введіть число: 10.14\n"
     ]
    },
    {
     "data": {
      "text/plain": [
       "'10.14 у двійковій системі буде 0|1010.001'"
      ]
     },
     "execution_count": 7,
     "metadata": {},
     "output_type": "execute_result"
    }
   ],
   "source": [
    "task_7()"
   ]
  },
  {
   "cell_type": "code",
   "execution_count": 8,
   "id": "67187f13",
   "metadata": {},
   "outputs": [
    {
     "name": "stdout",
     "output_type": "stream",
     "text": [
      "Введіть число: -32\n"
     ]
    },
    {
     "data": {
      "text/plain": [
       "'-32 у двійковій системі буде 1|100000'"
      ]
     },
     "execution_count": 8,
     "metadata": {},
     "output_type": "execute_result"
    }
   ],
   "source": [
    "task_7()"
   ]
  }
 ],
 "metadata": {
  "kernelspec": {
   "display_name": "Python 3 (ipykernel)",
   "language": "python",
   "name": "python3"
  },
  "language_info": {
   "codemirror_mode": {
    "name": "ipython",
    "version": 3
   },
   "file_extension": ".py",
   "mimetype": "text/x-python",
   "name": "python",
   "nbconvert_exporter": "python",
   "pygments_lexer": "ipython3",
   "version": "3.7.1"
  }
 },
 "nbformat": 4,
 "nbformat_minor": 5
}
